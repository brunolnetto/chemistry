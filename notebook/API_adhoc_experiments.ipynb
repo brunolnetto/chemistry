{
 "cells": [
  {
   "cell_type": "code",
   "execution_count": 3,
   "id": "e263633a-121c-48f3-95c3-acc42e82a729",
   "metadata": {},
   "outputs": [
    {
     "name": "stdout",
     "output_type": "stream",
     "text": [
      "Defaulting to user installation because normal site-packages is not writeable\n",
      "Collecting faker\n",
      "  Downloading Faker-24.8.0-py3-none-any.whl.metadata (15 kB)\n",
      "Requirement already satisfied: python-dateutil>=2.4 in /home/brunolnetto/.local/lib/python3.8/site-packages (from faker) (2.8.2)\n",
      "Requirement already satisfied: typing-extensions>=3.10.0.1 in /home/brunolnetto/.local/lib/python3.8/site-packages (from faker) (4.10.0)\n",
      "Requirement already satisfied: six>=1.5 in /home/brunolnetto/.local/lib/python3.8/site-packages (from python-dateutil>=2.4->faker) (1.16.0)\n",
      "Downloading Faker-24.8.0-py3-none-any.whl (1.8 MB)\n",
      "\u001b[2K   \u001b[38;2;114;156;31m━━━━━━━━━━━━━━━━━━━━━━━━━━━━━━━━━━━━━━━━\u001b[0m \u001b[32m1.8/1.8 MB\u001b[0m \u001b[31m5.0 MB/s\u001b[0m eta \u001b[36m0:00:00\u001b[0m MB/s\u001b[0m eta \u001b[36m0:00:01\u001b[0m:01\u001b[0m\n",
      "\u001b[?25hInstalling collected packages: faker\n",
      "Successfully installed faker-24.8.0\n"
     ]
    }
   ],
   "source": [
    "!pip install faker"
   ]
  },
  {
   "cell_type": "code",
   "execution_count": 9,
   "id": "d1afc8e4-4476-482f-8410-ee2c423f816a",
   "metadata": {},
   "outputs": [
    {
     "data": {
      "text/plain": [
       "{'order_id': 1, 'item_id': 5, 'description': 'Description of item 5'}"
      ]
     },
     "execution_count": 9,
     "metadata": {},
     "output_type": "execute_result"
    }
   ],
   "source": [
    "generate_item_dict(1, [1, 2, 3, 4, 5, 6, 7, 8, 9])"
   ]
  },
  {
   "cell_type": "code",
   "execution_count": 13,
   "id": "b8d29f8d-5590-4720-86c7-e50fc042bc18",
   "metadata": {},
   "outputs": [],
   "source": []
  },
  {
   "cell_type": "code",
   "execution_count": 15,
   "id": "08e5c17f-633a-4a82-a44e-43bb5ecd86f7",
   "metadata": {},
   "outputs": [
    {
     "name": "stdout",
     "output_type": "stream",
     "text": [
      "    order_id     item_id                     description\n",
      "0          1  ZrDd68bCzr  Description of item ZrDd68bCzr\n",
      "1          1  dFcDoM4KlN  Description of item dFcDoM4KlN\n",
      "2          1  aDmH44qzwy  Description of item aDmH44qzwy\n",
      "3          1  SsgJCW2P3A  Description of item SsgJCW2P3A\n",
      "4          1  c6VYiwVbxn  Description of item c6VYiwVbxn\n",
      "5          1  aDmH44qzwy  Description of item aDmH44qzwy\n",
      "6          1  PB2sh6zTwj  Description of item PB2sh6zTwj\n",
      "7          1  c6VYiwVbxn  Description of item c6VYiwVbxn\n",
      "8          1  aDmH44qzwy  Description of item aDmH44qzwy\n",
      "9          2  dFcDoM4KlN  Description of item dFcDoM4KlN\n",
      "10         2  c6VYiwVbxn  Description of item c6VYiwVbxn\n",
      "11         2  XJgDHqGaao  Description of item XJgDHqGaao\n",
      "12         2  XJgDHqGaao  Description of item XJgDHqGaao\n",
      "13         2  uGn19MDb6z  Description of item uGn19MDb6z\n",
      "14         3  XJgDHqGaao  Description of item XJgDHqGaao\n",
      "15         3  dFcDoM4KlN  Description of item dFcDoM4KlN\n",
      "16         3  SsgJCW2P3A  Description of item SsgJCW2P3A\n",
      "17         3  XJgDHqGaao  Description of item XJgDHqGaao\n",
      "18         3  XJgDHqGaao  Description of item XJgDHqGaao\n",
      "19         3  aDmH44qzwy  Description of item aDmH44qzwy\n",
      "20         4  ZrDd68bCzr  Description of item ZrDd68bCzr\n",
      "21         4  5JKAlTXVJn  Description of item 5JKAlTXVJn\n",
      "22         4  5JKAlTXVJn  Description of item 5JKAlTXVJn\n",
      "23         4  5JKAlTXVJn  Description of item 5JKAlTXVJn\n",
      "24         4  c6VYiwVbxn  Description of item c6VYiwVbxn\n",
      "25         5  PB2sh6zTwj  Description of item PB2sh6zTwj\n",
      "26         5  uGn19MDb6z  Description of item uGn19MDb6z\n",
      "27         5  XJgDHqGaao  Description of item XJgDHqGaao\n",
      "28         5  Gs6btww2x6  Description of item Gs6btww2x6\n",
      "29         5  dFcDoM4KlN  Description of item dFcDoM4KlN\n",
      "30         6  dFcDoM4KlN  Description of item dFcDoM4KlN\n",
      "31         6  aDmH44qzwy  Description of item aDmH44qzwy\n",
      "32         6  c6VYiwVbxn  Description of item c6VYiwVbxn\n",
      "33         6  uGn19MDb6z  Description of item uGn19MDb6z\n",
      "34         6  XJgDHqGaao  Description of item XJgDHqGaao\n",
      "35         6  aDmH44qzwy  Description of item aDmH44qzwy\n",
      "36         6  SsgJCW2P3A  Description of item SsgJCW2P3A\n",
      "37         6  c6VYiwVbxn  Description of item c6VYiwVbxn\n",
      "38         7  ZrDd68bCzr  Description of item ZrDd68bCzr\n",
      "39         7  Gs6btww2x6  Description of item Gs6btww2x6\n",
      "40         7  uGn19MDb6z  Description of item uGn19MDb6z\n",
      "41         7  XJgDHqGaao  Description of item XJgDHqGaao\n",
      "42         8  ZrDd68bCzr  Description of item ZrDd68bCzr\n",
      "43         8  c6VYiwVbxn  Description of item c6VYiwVbxn\n",
      "44         8  SsgJCW2P3A  Description of item SsgJCW2P3A\n",
      "45         8  Gs6btww2x6  Description of item Gs6btww2x6\n",
      "46         8  5JKAlTXVJn  Description of item 5JKAlTXVJn\n",
      "47         9  ZrDd68bCzr  Description of item ZrDd68bCzr\n",
      "48         9  c6VYiwVbxn  Description of item c6VYiwVbxn\n",
      "49         9  5JKAlTXVJn  Description of item 5JKAlTXVJn\n",
      "50         9  uGn19MDb6z  Description of item uGn19MDb6z\n",
      "51        10  aDmH44qzwy  Description of item aDmH44qzwy\n",
      "52        10  aDmH44qzwy  Description of item aDmH44qzwy\n",
      "53        10  ZrDd68bCzr  Description of item ZrDd68bCzr\n"
     ]
    }
   ],
   "source": [
    "import pandas as pd\n",
    "import numpy as np\n",
    "from scipy.stats import poisson\n",
    "\n",
    "# Set seed for reproducibility\n",
    "np.random.seed(0)\n",
    "\n",
    "# Parameters\n",
    "num_itemsets = 10\n",
    "num_items = 10\n",
    "\n",
    "itemsets_df = generate_itemsets_dataframe(num_items, num_itemsets)\n",
    "\n",
    "# Display the DataFrame\n",
    "print(itemsets_df)"
   ]
  },
  {
   "cell_type": "code",
   "execution_count": null,
   "id": "f2f65d8a-e623-434d-994b-fd993c732710",
   "metadata": {},
   "outputs": [],
   "source": []
  }
 ],
 "metadata": {
  "kernelspec": {
   "display_name": "Python 3 (ipykernel)",
   "language": "python",
   "name": "python3"
  },
  "language_info": {
   "codemirror_mode": {
    "name": "ipython",
    "version": 3
   },
   "file_extension": ".py",
   "mimetype": "text/x-python",
   "name": "python",
   "nbconvert_exporter": "python",
   "pygments_lexer": "ipython3",
   "version": "3.8.10"
  }
 },
 "nbformat": 4,
 "nbformat_minor": 5
}
